{
 "cells": [
  {
   "cell_type": "code",
   "execution_count": null,
   "metadata": {
    "collapsed": true
   },
   "outputs": [],
   "source": []
  },
  {
   "cell_type": "code",
   "execution_count": 68,
   "metadata": {
    "collapsed": true
   },
   "outputs": [],
   "source": [
    "def maxSubArray(nums):\n",
    "    \"\"\"\n",
    "    :type nums: List[int]\n",
    "    :rtype: int\n",
    "    \"\"\"\n",
    "    sum_max,_,_ = findSum(nums)\n",
    "    return sum_max "
   ]
  },
  {
   "cell_type": "code",
   "execution_count": 69,
   "metadata": {
    "collapsed": true
   },
   "outputs": [],
   "source": [
    "def maxNumber_odd(sum_left, sum_middle, sum_right, ls, le, rs, re):\n",
    "    if (sum_middle >= sum_left) and (sum_middle >= sum_right):\n",
    "        return sum_middle,ls,re\n",
    "    elif (sum_left > sum_middle) and (sum_left >= sum_right):\n",
    "        return sum_left,ls ,le\n",
    "    else:\n",
    "        return sum_right,rs,re"
   ]
  },
  {
   "cell_type": "code",
   "execution_count": 80,
   "metadata": {
    "collapsed": false
   },
   "outputs": [],
   "source": [
    "def maxNumber_even(sum_left,sum_right,sum_left_middle,sum_right_middle,sum_middle,middle_point, ls, le, rs, re,k):\n",
    "    m = k+1\n",
    "    dict_even = {\n",
    "        sum_left : [ls,le],\n",
    "        sum_right : [rs,re],\n",
    "        sum_left_middle : [ls,m],\n",
    "        sum_right_middle : [k ,re],\n",
    "        sum_middle : [ls, re],\n",
    "        middle_point : [k, m]\n",
    "    } \n",
    "    \n",
    "    max_key = max(list(dict_even.keys()))\n",
    "    max_value = dict_even[max_key]\n",
    "    return int(max_key), int(max_value[0]),int(max_value[1])"
   ]
  },
  {
   "cell_type": "code",
   "execution_count": 83,
   "metadata": {
    "collapsed": false
   },
   "outputs": [],
   "source": [
    "def findSum(nums):\n",
    "    if len(nums) == 1:\n",
    "        return sum(nums),0,1\n",
    "\n",
    "    else:\n",
    "        if len(nums) % 2 == 0:\n",
    "            k = len(nums)/2\n",
    "            sum_left,ls,le = findSum(nums[:k])\n",
    "            sum_right,rs,re = findSum(nums[k:])\n",
    "            rs += (k + 1)\n",
    "            re += (k + 1)\n",
    "\n",
    "            sum_middle = sum(nums[ls : re])\n",
    "            sum_max, start_max, end_max = maxNumber_odd(sum_left, sum_middle, sum_right, ls, le, rs, re)\n",
    "        else :\n",
    "            k = len(nums)/2\n",
    "            print k\n",
    "            sum_left,ls,le = findSum(nums[:k])\n",
    "            sum_right, rs, re = findSum(nums[k + 1:])\n",
    "\n",
    "            rs += (k + 1)\n",
    "            re += (k + 1)\n",
    "            middle_point = nums[k]\n",
    "            sum_left_middle = sum(nums[ls : k+1])\n",
    "            sum_right_middle = sum(nums[k : re])\n",
    "            sum_middle = sum(nums[ls : re])\n",
    "            sum_max, start_max, end_max = maxNumber_even(sum_left,sum_right,sum_left_middle,sum_right_middle,sum_middle, middle_point, ls, le, rs, re,k)\n",
    "                \n",
    "        return sum_max, start_max, end_max\n",
    "\n",
    "    return sum_max, start_max, end_max"
   ]
  },
  {
   "cell_type": "code",
   "execution_count": 85,
   "metadata": {
    "collapsed": false
   },
   "outputs": [
    {
     "name": "stdout",
     "output_type": "stream",
     "text": [
      "4\n"
     ]
    },
    {
     "data": {
      "text/plain": [
       "4"
      ]
     },
     "execution_count": 85,
     "metadata": {},
     "output_type": "execute_result"
    }
   ],
   "source": [
    "maxSubArray([-2,1,-3,4,-1,2,1,-5,4])"
   ]
  },
  {
   "cell_type": "code",
   "execution_count": 18,
   "metadata": {
    "collapsed": false
   },
   "outputs": [
    {
     "data": {
      "text/plain": [
       "2"
      ]
     },
     "execution_count": 18,
     "metadata": {},
     "output_type": "execute_result"
    }
   ],
   "source": [
    "list_test = [-1,2]\n",
    "sum(list_test[1:2])"
   ]
  },
  {
   "cell_type": "code",
   "execution_count": null,
   "metadata": {
    "collapsed": true
   },
   "outputs": [],
   "source": []
  }
 ],
 "metadata": {
  "kernelspec": {
   "display_name": "Python 2",
   "language": "python",
   "name": "python2"
  },
  "language_info": {
   "codemirror_mode": {
    "name": "ipython",
    "version": 2
   },
   "file_extension": ".py",
   "mimetype": "text/x-python",
   "name": "python",
   "nbconvert_exporter": "python",
   "pygments_lexer": "ipython2",
   "version": "2.7.10"
  }
 },
 "nbformat": 4,
 "nbformat_minor": 1
}
