{
 "cells": [
  {
   "cell_type": "code",
   "execution_count": 138,
   "metadata": {
    "collapsed": true
   },
   "outputs": [],
   "source": [
    "import pandas as pd"
   ]
  },
  {
   "cell_type": "code",
   "execution_count": 153,
   "metadata": {
    "collapsed": true
   },
   "outputs": [],
   "source": [
    "url = \"https://d18ky98rnyall9.cloudfront.net/_32387ba40b36359a38625cbb397eee65_QuickSort.txt?Expires=1475798400&Signature=JV02FJDbFcfoy3WzBUzvvSo2V7Pk-5xYi9M~bgVXKeWmfbXne0wCm2TXJY1BHbELvoHV4LMHA0UrCWcghQomWtmM2hLfwwickc0YrFM0-07G6syzMB8lxnuPgcVRDLu8~42UIp-EnVRNMvhzXsR4wmp9m0A1A09rPCGlyZ~AdtI_&Key-Pair-Id=APKAJLTNE6QMUY6HBC5A\""
   ]
  },
  {
   "cell_type": "code",
   "execution_count": 154,
   "metadata": {
    "collapsed": false
   },
   "outputs": [],
   "source": [
    "array = pd.read_csv(url,header = None)"
   ]
  },
  {
   "cell_type": "code",
   "execution_count": 155,
   "metadata": {
    "collapsed": false
   },
   "outputs": [],
   "source": [
    "assign_list = list(array[0])"
   ]
  },
  {
   "cell_type": "code",
   "execution_count": 51,
   "metadata": {
    "collapsed": false
   },
   "outputs": [
    {
     "data": {
      "text/plain": [
       "1"
      ]
     },
     "execution_count": 51,
     "metadata": {},
     "output_type": "execute_result"
    }
   ],
   "source": [
    "len([1])"
   ]
  },
  {
   "cell_type": "code",
   "execution_count": 82,
   "metadata": {
    "collapsed": false
   },
   "outputs": [],
   "source": [
    "def quick_sort(assign_list,c):\n",
    "    if len(assign_list) <=1:\n",
    "        return assign_list,0\n",
    "    else:\n",
    "        point = assign_list[0]\n",
    "        i = 1\n",
    "        j = 0\n",
    "        for j in range(1,len(assign_list)):\n",
    "            if assign_list[j] < point:\n",
    "                assign_list[j],assign_list[i] = assign_list[i],assign_list[j]  \n",
    "                i += 1\n",
    "        assign_list[i-1],assign_list[0] = assign_list[0],assign_list[i-1]\n",
    "        left,cl = quick_sort(assign_list[:i-1],c)\n",
    "        right,cr = quick_sort(assign_list[i:],c)\n",
    "        c += len(assign_list) - 1 \n",
    "        c = c + cl + cr\n",
    "        return left + [point] + right,c\n",
    "    \n",
    "    return assign_list,c           "
   ]
  },
  {
   "cell_type": "code",
   "execution_count": 83,
   "metadata": {
    "collapsed": false
   },
   "outputs": [
    {
     "data": {
      "text/plain": [
       "162085"
      ]
     },
     "execution_count": 83,
     "metadata": {},
     "output_type": "execute_result"
    }
   ],
   "source": [
    "_,c = quick_sort(assign_list,0)\n",
    "c"
   ]
  },
  {
   "cell_type": "code",
   "execution_count": 87,
   "metadata": {
    "collapsed": true
   },
   "outputs": [],
   "source": [
    "def quick_sort(assign_list,c):\n",
    "    if len(assign_list) <=1:\n",
    "        return assign_list,0\n",
    "    else:\n",
    "        assign_list[0],assign_list[-1] = assign_list[-1],assign_list[0]\n",
    "        point = assign_list[0]\n",
    "        i = 1\n",
    "        j = 0\n",
    "        for j in range(1,len(assign_list)):\n",
    "            if assign_list[j] < point:\n",
    "                assign_list[j],assign_list[i] = assign_list[i],assign_list[j]  \n",
    "                i += 1\n",
    "        assign_list[i-1],assign_list[0] = assign_list[0],assign_list[i-1]\n",
    "        left,cl = quick_sort(assign_list[:i-1],c)\n",
    "        right,cr = quick_sort(assign_list[i:],c)\n",
    "        c += len(assign_list) - 1 \n",
    "        c = c + cl + cr\n",
    "        return left + [point] + right,c\n",
    "    \n",
    "    return assign_list,c     "
   ]
  },
  {
   "cell_type": "code",
   "execution_count": 88,
   "metadata": {
    "collapsed": false
   },
   "outputs": [
    {
     "data": {
      "text/plain": [
       "164123"
      ]
     },
     "execution_count": 88,
     "metadata": {},
     "output_type": "execute_result"
    }
   ],
   "source": [
    "_,c = quick_sort(assign_list,0)\n",
    "c"
   ]
  },
  {
   "cell_type": "code",
   "execution_count": 157,
   "metadata": {
    "collapsed": true
   },
   "outputs": [],
   "source": [
    "def quick_sort(assign_list,c):\n",
    "    if len(assign_list) <=1:\n",
    "        return assign_list,0\n",
    "    else:\n",
    "        _,loc = fun_median(assign_list)\n",
    "        assign_list[loc],assign_list[0] = assign_list[0],assign_list[loc] \n",
    "        point = assign_list[0]\n",
    "        i = 1\n",
    "        j = 0\n",
    "        for j in range(1,len(assign_list)):\n",
    "            if assign_list[j] < point:\n",
    "                assign_list[j],assign_list[i] = assign_list[i],assign_list[j]  \n",
    "                i += 1\n",
    "        assign_list[i-1],assign_list[0] = assign_list[0],assign_list[i-1]\n",
    "        left,cl = quick_sort(assign_list[:i-1],c)\n",
    "        right,cr = quick_sort(assign_list[i:],c)\n",
    "        c += len(assign_list) - 1 \n",
    "        c = c + cl + cr\n",
    "        return left + [point] + right,c\n",
    "    \n",
    "    return assign_list,c     "
   ]
  },
  {
   "cell_type": "code",
   "execution_count": 158,
   "metadata": {
    "collapsed": false
   },
   "outputs": [
    {
     "data": {
      "text/plain": [
       "138382"
      ]
     },
     "execution_count": 158,
     "metadata": {},
     "output_type": "execute_result"
    }
   ],
   "source": [
    "_,c = quick_sort(assign_list,0)\n",
    "c"
   ]
  },
  {
   "cell_type": "code",
   "execution_count": 156,
   "metadata": {
    "collapsed": true
   },
   "outputs": [],
   "source": [
    "def fun_median(array_list):\n",
    "    k = (len(array_list) - 1)/2\n",
    "    first = array_list[0]\n",
    "    last = array_list[-1]\n",
    "    middle = array_list[k]\n",
    "    if last <= first <= middle or middle <= first <= last:\n",
    "        return first,0\n",
    "    elif first <= middle <= last or last <= middle <= first:\n",
    "        return middle,k\n",
    "    else:\n",
    "        return last,-1"
   ]
  },
  {
   "cell_type": "code",
   "execution_count": 152,
   "metadata": {
    "collapsed": false
   },
   "outputs": [
    {
     "name": "stdout",
     "output_type": "stream",
     "text": [
      "1\n"
     ]
    },
    {
     "data": {
      "text/plain": [
       "(3, 1)"
      ]
     },
     "execution_count": 152,
     "metadata": {},
     "output_type": "execute_result"
    }
   ],
   "source": [
    "fun_median([2,3,2,3])"
   ]
  },
  {
   "cell_type": "code",
   "execution_count": 144,
   "metadata": {
    "collapsed": false
   },
   "outputs": [
    {
     "data": {
      "text/plain": [
       "1"
      ]
     },
     "execution_count": 144,
     "metadata": {},
     "output_type": "execute_result"
    }
   ],
   "source": [
    "int(1.5)"
   ]
  },
  {
   "cell_type": "code",
   "execution_count": 161,
   "metadata": {
    "collapsed": false
   },
   "outputs": [
    {
     "data": {
      "text/plain": [
       "[7]"
      ]
     },
     "execution_count": 161,
     "metadata": {},
     "output_type": "execute_result"
    }
   ],
   "source": [
    "list_1 = [1,2,3,4,5,6,7]\n",
    "list_1[6:7]"
   ]
  },
  {
   "cell_type": "code",
   "execution_count": null,
   "metadata": {
    "collapsed": true
   },
   "outputs": [],
   "source": []
  }
 ],
 "metadata": {
  "kernelspec": {
   "display_name": "Python 2",
   "language": "python",
   "name": "python2"
  },
  "language_info": {
   "codemirror_mode": {
    "name": "ipython",
    "version": 2
   },
   "file_extension": ".py",
   "mimetype": "text/x-python",
   "name": "python",
   "nbconvert_exporter": "python",
   "pygments_lexer": "ipython2",
   "version": "2.7.10"
  }
 },
 "nbformat": 4,
 "nbformat_minor": 1
}
