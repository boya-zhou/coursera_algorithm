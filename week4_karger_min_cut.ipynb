{
 "cells": [
  {
   "cell_type": "code",
   "execution_count": 46,
   "metadata": {
    "collapsed": true
   },
   "outputs": [],
   "source": [
    "import pandas as pd\n",
    "import random\n",
    "import math\n",
    "import copy\n",
    "import time"
   ]
  },
  {
   "cell_type": "code",
   "execution_count": 47,
   "metadata": {
    "collapsed": true
   },
   "outputs": [],
   "source": [
    "#deal with the url data"
   ]
  },
  {
   "cell_type": "code",
   "execution_count": 48,
   "metadata": {
    "collapsed": false
   },
   "outputs": [
    {
     "name": "stdout",
     "output_type": "stream",
     "text": [
      "/home/siyuan/Documents/Boya/self_learn2016\n"
     ]
    }
   ],
   "source": [
    "cd '/home/siyuan/Documents/Boya/self_learn2016'"
   ]
  },
  {
   "cell_type": "code",
   "execution_count": 49,
   "metadata": {
    "collapsed": true
   },
   "outputs": [],
   "source": [
    "with open(\"kargerMinCut.txt\", 'r') as f:\n",
    "    karger_hash = {}\n",
    "    for line in f:\n",
    "        dic = list(map(int,line.strip().split(\"\\t\")))\n",
    "        karger_hash[dic.pop(0)] = dic"
   ]
  },
  {
   "cell_type": "code",
   "execution_count": 50,
   "metadata": {
    "collapsed": true
   },
   "outputs": [],
   "source": [
    "# begin the algorithm\n",
    "# the karger_hash is a key:[list] pair"
   ]
  },
  {
   "cell_type": "code",
   "execution_count": 51,
   "metadata": {
    "collapsed": true
   },
   "outputs": [],
   "source": [
    "def contract(hash_list):\n",
    "    \n",
    "    vertice_2random = random.sample(hash_list.keys(), 2)\n",
    "    \n",
    "    #use the smaller one\n",
    "    merge_vertice = random.choice(list(hash_list.keys()))\n",
    "    vertice_to_delete = random.choice(hash_list[merge_vertice])\n",
    "    \n",
    "    #update other list\n",
    "    for key, value in hash_list.iteritems():\n",
    "        while vertice_to_delete in value:\n",
    "            index = value.index(vertice_to_delete)\n",
    "            value[index] = merge_vertice\n",
    "            \n",
    "    vertice_group1 = hash_list[merge_vertice]\n",
    "    vertice_group2 = hash_list[vertice_to_delete]\n",
    "    \n",
    "    #extend the list\n",
    "    vertice_group1 += vertice_group2\n",
    "    del hash_list[vertice_to_delete]\n",
    "    \n",
    "    #delete the self loop element\n",
    "    vertice_group1 = filter(lambda x: x != merge_vertice, vertice_group1)\n",
    "    \n",
    "    #update the hash table \n",
    "    hash_list[merge_vertice] = vertice_group1\n",
    "\n",
    "    return hash_list"
   ]
  },
  {
   "cell_type": "code",
   "execution_count": 52,
   "metadata": {
    "collapsed": true
   },
   "outputs": [],
   "source": [
    "def contract_till_end(hash_list):\n",
    "    while len(hash_list.keys()) > 2 :\n",
    "        hash_list = contract(hash_list)\n",
    "    \n",
    "    return len(hash_list[hash_list.keys()[0]])"
   ]
  },
  {
   "cell_type": "code",
   "execution_count": 53,
   "metadata": {
    "collapsed": false
   },
   "outputs": [
    {
     "name": "stdout",
     "output_type": "stream",
     "text": [
      "0.072890996933\n"
     ]
    }
   ],
   "source": [
    "start = time.time()\n",
    "result_list = []\n",
    "karger_hash_test = copy.deepcopy(karger_hash)\n",
    "result_list.append(contract_till_end(karger_hash_test))\n",
    "print time.time() - start"
   ]
  },
  {
   "cell_type": "code",
   "execution_count": 54,
   "metadata": {
    "collapsed": false
   },
   "outputs": [
    {
     "name": "stdout",
     "output_type": "stream",
     "text": [
      "17\n"
     ]
    }
   ],
   "source": [
    "# if we set trial num equals n**2*ln(n), the prob to fail is 1/n\n",
    "# if we use trial num equals n**2, the prob to fail is 1/e\n",
    "result_list = []\n",
    "for dummy_i in range(int(40000)):\n",
    "    karger_hash_test = copy.deepcopy(karger_hash)\n",
    "    result_list.append(contract_till_end(karger_hash_test))\n",
    "print min(result_list)"
   ]
  },
  {
   "cell_type": "code",
   "execution_count": null,
   "metadata": {
    "collapsed": true
   },
   "outputs": [],
   "source": []
  }
 ],
 "metadata": {
  "kernelspec": {
   "display_name": "Python 2",
   "language": "python",
   "name": "python2"
  },
  "language_info": {
   "codemirror_mode": {
    "name": "ipython",
    "version": 2
   },
   "file_extension": ".py",
   "mimetype": "text/x-python",
   "name": "python",
   "nbconvert_exporter": "python",
   "pygments_lexer": "ipython2",
   "version": "2.7.12"
  }
 },
 "nbformat": 4,
 "nbformat_minor": 1
}
