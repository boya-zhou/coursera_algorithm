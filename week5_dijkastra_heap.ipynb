{
 "cells": [
  {
   "cell_type": "markdown",
   "metadata": {},
   "source": [
    "- The file contains an adjacency list representation of an undirected weighted graph with 200 vertices labeled 1 to 200. Each row consists of the node tuples that are adjacent to that particular vertex along with the length of that edge. For example, the 6th row has 6 as the first entry indicating that this row corresponds to the vertex labeled 6. The next entry of this row \"141,8200\" indicates that there is an edge between vertex 6 and vertex 141 that has length 8200. The rest of the pairs of this row indicate the other vertices adjacent to vertex 6 and the lengths of the corresponding edges.\n",
    "\n",
    "\n",
    "- Your task is to run Dijkstra's shortest-path algorithm on this graph, using 1 (the first vertex) as the source vertex, and to compute the shortest-path distances between 1 and every other vertex of the graph. If there is no path between a vertex v and vertex 1, we'll define the shortest-path distance between 1 and v to be 1000000.\n",
    "\n",
    "\n",
    "- You should report the shortest-path distances to the following ten vertices, in order: 7,37,59,82,99,115,133,165,188,197. You should encode the distances as a comma-separated string of integers. So if you find that all ten of these vertices except 115 are at distance 1000 away from vertex 1 and 115 is 2000 distance away, then your answer should be 1000,1000,1000,1000,1000,2000,1000,1000,1000,1000. Remember the order of reporting DOES MATTER, and the string should be in the same order in which the above ten vertices are given. The string should not contain any spaces. Please type your answer in the space provided.\n",
    "\n",
    "\n",
    "- IMPLEMENTATION NOTES: This graph is small enough that the straightforward O(mn) time implementation of Dijkstra's algorithm should work fine. OPTIONAL: For those of you seeking an additional challenge, try implementing the heap-based version. Note this requires a heap that supports deletions, and you'll probably need to maintain some kind of mapping between vertices and their positions in the heap."
   ]
  },
  {
   "cell_type": "markdown",
   "metadata": {},
   "source": [
    "### Heap implementation"
   ]
  },
  {
   "cell_type": "code",
   "execution_count": 12,
   "metadata": {
    "collapsed": false
   },
   "outputs": [],
   "source": [
    "'''\n",
    "    Reference : https://interactivepython.org/runestone/static/pythonds/Trees/BinaryHeapImplementation.html\n",
    "    Heap class:\n",
    "        \n",
    "        Node : each node is a tuple, (distance, node_name)\n",
    "        __init__ :  \n",
    "        \n",
    "'''\n",
    "\n",
    "class BinHeap(object):\n",
    "    \n",
    "    def __init__(self) :\n",
    "        \n",
    "        self.heap_list = [(0, None)]\n",
    "        self.current_size = 1\n",
    "\n",
    "    def insert(self, new_node) :\n",
    "        '''\n",
    "            Insert the node at the end of the heaplist.\n",
    "            Then use __pecup__ function to make the node to its right place\n",
    "            The self.heap_list[i][0] is the key\n",
    "        '''\n",
    "        self.heap_list.append(new_node)\n",
    "        self.current_size += 1\n",
    "        self.__perc_up__(new_node, self.current_size - 1)\n",
    "    \n",
    "    def __perc_up__(self, new_node, cursor):\n",
    "        \n",
    "        if (self.heap_list[cursor][0] < self.heap_list[cursor/2][0]) and (cursor > 1):\n",
    "            self.heap_list[cursor/2], self.heap_list[cursor] = self.heap_list[cursor], self.heap_list[cursor/2]\n",
    "            cursor = cursor/2\n",
    "            self.__perc_up__(new_node, cursor)\n",
    "            \n",
    "    def del_min(self):\n",
    "        '''\n",
    "            First : always delete the first element and return it\n",
    "            Second : make the last element in list to the first\n",
    "            Third : push down this element\n",
    "        '''\n",
    "        min_element = self.heap_list[1]\n",
    "        self.heap_list[1], self.heap_list[-1] = self.heap_list[-1], self.heap_list[1]\n",
    "        del(self.heap_list[-1])\n",
    "        self.current_size = self.current_size - 1\n",
    "        self.__push__(cursor = 1)\n",
    "        return min_element\n",
    "        \n",
    "    def __push__(self, cursor):\n",
    "        \n",
    "        min_child_cursor = self.__min_child__(cursor)\n",
    "        if (min_child_cursor is not None) and (self.heap_list[min_child_cursor][0] < self.heap_list[cursor][0]):\n",
    "            self.heap_list[cursor],self.heap_list[min_child_cursor] = self.heap_list[min_child_cursor],self.heap_list[cursor]\n",
    "            cursor = min_child_cursor\n",
    "            self.__push__(cursor = min_child_cursor -1)\n",
    "            \n",
    "    def __min_child__(self, cursor):\n",
    "        \n",
    "        if (2 * cursor) > (self.current_size - 1) :\n",
    "            return None\n",
    "        elif (2 * cursor + 1) > (self.current_size - 1):\n",
    "            return 2 * cursor\n",
    "        else:\n",
    "            if self.heap_list[2 * cursor][0] > self.heap_list[2 * cursor + 1][0]:\n",
    "                return 2 * cursor + 1\n",
    "            else:\n",
    "                return 2 * cursor\n",
    "            \n",
    "    def check_unique(self):\n",
    "        '''\n",
    "           Since the element in heap can not repeat.\n",
    "           Check if there is repeat\n",
    "           If there is repeat, Raise repeat exception\n",
    "        '''\n",
    "        ele_name = []\n",
    "        for ele in self.heap_list:\n",
    "            ele_name.append(ele[1])\n",
    "        if len(ele_name) != len(set(ele_name)):\n",
    "            raise ValueError('There are repeat values in list')\n",
    "            \n",
    "    def decrease_key(self, key, node_name):\n",
    "        '''\n",
    "            Because of new froniter, some of the distance will decrease\n",
    "            keep the invariant\n",
    "        '''\n",
    "        i = 0\n",
    "        while i < self.current_size:\n",
    "            if self.heap_list[i][1] == node_name:\n",
    "                self.heap_list[i] = (key, self.heap_list[i][1])\n",
    "                self.__perc_up__(self.heap_list[i], i)\n",
    "                break  \n",
    "            i += 1\n",
    "            \n",
    "    def is_empty(self):\n",
    "        if self.current_size < 2:\n",
    "            return True\n",
    "        else:\n",
    "            return False\n",
    "    \n",
    "    def get_key(self,node_name):\n",
    "        for ele in self.heap_list:\n",
    "            if ele[1] == node_name:\n",
    "                return ele[0]"
   ]
  },
  {
   "cell_type": "markdown",
   "metadata": {},
   "source": [
    "#### test for heap"
   ]
  },
  {
   "cell_type": "code",
   "execution_count": 13,
   "metadata": {
    "collapsed": false
   },
   "outputs": [
    {
     "data": {
      "text/plain": [
       "[(0, None), (4, 4), (7, 7), (5, 5)]"
      ]
     },
     "execution_count": 13,
     "metadata": {},
     "output_type": "execute_result"
    }
   ],
   "source": [
    "bin_heap = BinHeap()\n",
    "bin_heap.insert((1, 1))\n",
    "bin_heap.insert((9, 4))\n",
    "bin_heap.insert((5, 5))\n",
    "bin_heap.insert((2, 2))\n",
    "bin_heap.insert((7, 7))\n",
    "# bin_heap.insert((3, 3))\n",
    "bin_heap.del_min()\n",
    "bin_heap.decrease_key(4,4)\n",
    "bin_heap.del_min()\n",
    "bin_heap.heap_list"
   ]
  },
  {
   "cell_type": "code",
   "execution_count": 14,
   "metadata": {
    "collapsed": false
   },
   "outputs": [
    {
     "data": {
      "text/plain": [
       "7"
      ]
     },
     "execution_count": 14,
     "metadata": {},
     "output_type": "execute_result"
    }
   ],
   "source": [
    "bin_heap.get_key(7)"
   ]
  },
  {
   "cell_type": "markdown",
   "metadata": {},
   "source": [
    "### Dijkastra"
   ]
  },
  {
   "cell_type": "code",
   "execution_count": 30,
   "metadata": {
    "collapsed": false
   },
   "outputs": [],
   "source": [
    "'''\n",
    "    distance_dict = {end : dis, ...}\n",
    "    road_dict = {end : [node1, node2, ...], ...}\n",
    "'''\n",
    "\n",
    "def dijkstra(source, d_dict):\n",
    "    \n",
    "    distance_dict = {}\n",
    "    priority_queue = BinHeap()\n",
    "\n",
    "    distance_dict[source] = 0\n",
    "    for ele in d_dict[source]:\n",
    "        priority_queue.insert(ele)\n",
    "\n",
    "    node_process = priority_queue.del_min()\n",
    "    distance_dict[node_process[1]] = node_process[0]\n",
    "\n",
    "    while priority_queue.current_size > 1:\n",
    "\n",
    "        # get the node tuples in dijkstra dict\n",
    "        unprocessed = [ele for ele in d_dict[node_process[1]] if ele[1] not in distance_dict.keys()]\n",
    "\n",
    "        # print unprocessed\n",
    "        # find intersection of what in heap and what in unprocessed\n",
    "        # keep the invariant\n",
    "        node_in_heap = [ele[1] for ele in priority_queue.heap_list]\n",
    "\n",
    "        for ele in unprocessed:\n",
    "            if ele[1] in node_in_heap:\n",
    "                min_dis = min([priority_queue.get_key(ele[1]),\n",
    "                              distance_dict[node_process[1]] + ele[0]])\n",
    "                priority_queue.decrease_key(min_dis, ele[1])\n",
    "            else:\n",
    "                ele = ((ele[0] + distance_dict[node_process[1]]), ele[1])\n",
    "                priority_queue.insert(ele)\n",
    "                \n",
    "        # print priority_queue.heap_list\n",
    "        node_process = priority_queue.del_min()\n",
    "        distance_dict[node_process[1]] = node_process[0]\n",
    "\n",
    "    return distance_dict"
   ]
  },
  {
   "cell_type": "markdown",
   "metadata": {},
   "source": [
    "#### The second and third comes from coursera example"
   ]
  },
  {
   "cell_type": "code",
   "execution_count": 11,
   "metadata": {
    "collapsed": false
   },
   "outputs": [
    {
     "data": {
      "text/plain": [
       "{1: 0, 2: 1, 3: 5, 4: 5, 5: 2, 6: 7, 7: 3, 8: 9}"
      ]
     },
     "execution_count": 11,
     "metadata": {},
     "output_type": "execute_result"
    }
   ],
   "source": [
    "source = 1\n",
    "edges = {1: [(1, 2), (6, 3)], \n",
    "         2: [(1, 1), (1, 5)],\n",
    "         3: [(6, 1), (3, 5), (2, 4)],\n",
    "         4: [(2, 3), (4, 5), (2, 6), (2, 7)],\n",
    "         5: [(3, 3), (1, 2), (4, 4), (5, 6), (1, 7)],\n",
    "         6: [(5, 5), (2, 4), (2, 8)],\n",
    "         7: [(1, 5), (2, 4), (10, 8)],\n",
    "         8 :[(2, 6), (10, 7)]}\n",
    "dijkstra(source, edges)"
   ]
  },
  {
   "cell_type": "code",
   "execution_count": 31,
   "metadata": {
    "collapsed": false
   },
   "outputs": [
    {
     "data": {
      "text/plain": [
       "{1: 0, 2: 6, 3: 2, 4: 4, 5: 3, 6: 10, 7: 11, 8: 9, 9: 12}"
      ]
     },
     "execution_count": 31,
     "metadata": {},
     "output_type": "execute_result"
    }
   ],
   "source": [
    "source = 1\n",
    "edges = {1: [(9, 2), (2, 3), (6, 4)], \n",
    "         2: [(4, 6)],\n",
    "         3: [(3, 4), (1, 5)],\n",
    "         4: [(2, 2), (7, 6), (9, 7)],\n",
    "         5: [(6, 8), (1, 4)],\n",
    "         6: [(1, 7), (5, 9)],\n",
    "         7: [(1, 9), (5, 8)],\n",
    "         8 :[(5, 9)]}\n",
    "dijkstra(source, edges)"
   ]
  },
  {
   "cell_type": "code",
   "execution_count": 32,
   "metadata": {
    "collapsed": false
   },
   "outputs": [
    {
     "data": {
      "text/plain": [
       "{1: 0, 2: 3, 3: 2, 4: 4, 5: 5, 6: 5}"
      ]
     },
     "execution_count": 32,
     "metadata": {},
     "output_type": "execute_result"
    }
   ],
   "source": [
    "source = 1\n",
    "edges = {1: [(2, 3), (3, 2)], \n",
    "         2: [(4, 4)],\n",
    "         3: [(1, 2), (2, 4), (3, 5)],\n",
    "         4: [(2, 5), (1, 6)],\n",
    "         5: [(2, 6)]}\n",
    "dijkstra(source, edges)"
   ]
  },
  {
   "cell_type": "markdown",
   "metadata": {},
   "source": [
    "### Read txt file"
   ]
  },
  {
   "cell_type": "code",
   "execution_count": 33,
   "metadata": {
    "collapsed": false
   },
   "outputs": [],
   "source": [
    "'''\n",
    "    dijkastra will look like [[1,(),()],[2,(),()],[],...]\n",
    "'''\n",
    "\n",
    "def main():\n",
    "    \n",
    "    answer = []\n",
    "    \n",
    "    dijkastra_dict = {}\n",
    "    with open('/Users/boyazhou/Desktop/Algorithm/Assignment5/dijkstraData.txt') as file:\n",
    "        for line in file:\n",
    "            single_list = []\n",
    "            for ele in line.strip().split('\\t')[1:]:\n",
    "                single_tuple = ()\n",
    "                single_tuple = (int(ele.split(',')[1]),int(ele.split(',')[0]))\n",
    "                single_list.append(single_tuple)\n",
    "            dijkastra_dict[int(line.strip().split('\\t')[0])] = single_list\n",
    "            \n",
    "    goal = [7,37,59,82,99,115,133,165,188,197]\n",
    "    source = 1\n",
    "#     goal = [1]\n",
    "#     source = 59\n",
    "    re_list = dijkstra(source, dijkastra_dict)\n",
    "    for g in goal:\n",
    "        answer.append(re_list[g])\n",
    "    \n",
    "    return answer"
   ]
  },
  {
   "cell_type": "code",
   "execution_count": 34,
   "metadata": {
    "collapsed": false
   },
   "outputs": [
    {
     "data": {
      "text/plain": [
       "[2599, 2610, 2947, 2052, 2367, 2399, 2029, 2442, 2505, 3068]"
      ]
     },
     "execution_count": 34,
     "metadata": {},
     "output_type": "execute_result"
    }
   ],
   "source": [
    "main()"
   ]
  }
 ],
 "metadata": {
  "kernelspec": {
   "display_name": "Python 2",
   "language": "python",
   "name": "python2"
  },
  "language_info": {
   "codemirror_mode": {
    "name": "ipython",
    "version": 2
   },
   "file_extension": ".py",
   "mimetype": "text/x-python",
   "name": "python",
   "nbconvert_exporter": "python",
   "pygments_lexer": "ipython2",
   "version": "2.7.10"
  }
 },
 "nbformat": 4,
 "nbformat_minor": 1
}
